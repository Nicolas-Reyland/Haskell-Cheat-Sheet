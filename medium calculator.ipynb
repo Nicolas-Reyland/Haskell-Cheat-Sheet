{
 "cells": [
  {
   "cell_type": "markdown",
   "id": "8938265a",
   "metadata": {},
   "source": [
    "# Medium Math Calculator in Haskell"
   ]
  },
  {
   "cell_type": "markdown",
   "id": "4b695330",
   "metadata": {},
   "source": [
    "## Imports"
   ]
  },
  {
   "cell_type": "code",
   "execution_count": 223,
   "id": "702c6087",
   "metadata": {},
   "outputs": [],
   "source": [
    "import Data.Char"
   ]
  },
  {
   "cell_type": "markdown",
   "id": "78766b9e",
   "metadata": {},
   "source": [
    "## Types, DataTypes & Constants"
   ]
  },
  {
   "cell_type": "code",
   "execution_count": 224,
   "id": "d1e609c7",
   "metadata": {},
   "outputs": [],
   "source": [
    "data MathValue =\n",
    "      Empty\n",
    "    | Value Float\n",
    "    | RawExpr String\n",
    "    | Operator Char\n",
    "    deriving (Show)"
   ]
  },
  {
   "cell_type": "code",
   "execution_count": 225,
   "id": "7f5011d9",
   "metadata": {},
   "outputs": [],
   "source": [
    "test_string = \"1 + 2 * (4 - 5) / 6\""
   ]
  },
  {
   "cell_type": "code",
   "execution_count": 226,
   "id": "3f43a720",
   "metadata": {},
   "outputs": [],
   "source": [
    "operators :: [Char]\n",
    "operators = \"%/*-+\""
   ]
  },
  {
   "cell_type": "markdown",
   "id": "c271fa32",
   "metadata": {},
   "source": [
    "## Parsing & String Utils"
   ]
  },
  {
   "cell_type": "code",
   "execution_count": 227,
   "id": "d05a44a8",
   "metadata": {},
   "outputs": [],
   "source": [
    "-- purge input string\n",
    "removeWhiteSpaces :: String -> String\n",
    "removeWhiteSpaces = filter (not . isSpace)\n",
    "\n",
    "-- same char class\n",
    "sameCharClass :: Char -> Char -> Bool\n",
    "sameCharClass c1 c2\n",
    "    | c1 `elem` operators || c2 `elem` operators = False\n",
    "    | isDigit c1 && isDigit c2                   = True\n",
    "    | c1 == '(' || c2 == ')'                     = True\n",
    "    | otherwise                                  = False\n",
    "\n",
    "-- get the next mathematical value in a string\n",
    "-- e.g. in \"1+2\", the restult would be (\"1\", \"+2\")\n",
    "getNextMathValueString :: String -> Int -> (String, String)\n",
    "getNextMathValueString [] _ = (\"\", \"\")\n",
    "getNextMathValueString [c] _ = ([c], \"\")\n",
    "getNextMathValueString (c1 : c2 : s) n\n",
    "    | c1 == ')' = if n == 1 then ([c1], c2 : s) -- closing parenthesis expr\n",
    "        else let (s2, rs) = getNextMathValueString (c2 : s) (n - 1) in (c1 : s2, rs) -- closing nested parenthesis\n",
    "    | c1 == '(' = if n == 0 then let (s2, rs) = getNextMathValueString (c2 : s) 1 in (c1 : s2, rs)\n",
    "        else let (s2, rs) = getNextMathValueString (c2 : s) (n + 1) in (s2, rs)\n",
    "    | c2 == '(' = if n == 0 then ([c1], c2: s)\n",
    "        else let (s2, rs) = getNextMathValueString (c2 : s) n in (c1 : c2 : s2, rs) -- next to an opening parenthesis\n",
    "    | n /= 0 = let (s2, rs) = getNextMathValueString (c2 : s) n in (c1 : s2, rs) -- inside nested parenthesis\n",
    "    | sameCharClass c1 c2 = let (s2, rs) = getNextMathValueString (c2 : s) n in (c1 : s2, rs)\n",
    "    | otherwise = ([c1], c2 : s)"
   ]
  },
  {
   "cell_type": "code",
   "execution_count": 228,
   "id": "56dff9cc",
   "metadata": {},
   "outputs": [
    {
     "data": {
      "text/plain": [
       "(\"(12*4)\",\"+2+3\")"
      ]
     },
     "metadata": {},
     "output_type": "display_data"
    },
    {
     "data": {
      "text/plain": [
       "(\"(12)\",\"+2+3\")"
      ]
     },
     "metadata": {},
     "output_type": "display_data"
    },
    {
     "data": {
      "text/plain": [
       "(\"(1)\",\"+2+3\")"
      ]
     },
     "metadata": {},
     "output_type": "display_data"
    },
    {
     "data": {
      "text/plain": [
       "(\"(1*(2/3))\",\"+2+3\")"
      ]
     },
     "metadata": {},
     "output_type": "display_data"
    },
    {
     "data": {
      "text/plain": [
       "(\"(1*(2/3)-4)\",\"+2+3\")"
      ]
     },
     "metadata": {},
     "output_type": "display_data"
    },
    {
     "data": {
      "text/plain": [
       "(\"\",\"\")"
      ]
     },
     "metadata": {},
     "output_type": "display_data"
    }
   ],
   "source": [
    "getNextMathValueString \"(12*4)+2+3\" 0\n",
    "getNextMathValueString \"(12)+2+3\" 0\n",
    "getNextMathValueString \"(1)+2+3\" 0\n",
    "getNextMathValueString \"(1*(2/3))+2+3\" 0\n",
    "getNextMathValueString \"(1*(2/3)-4)+2+3\" 0\n",
    "getNextMathValueString \"\" 0"
   ]
  },
  {
   "cell_type": "code",
   "execution_count": 229,
   "id": "710178a5",
   "metadata": {},
   "outputs": [],
   "source": [
    "stringToMathValue :: String -> MathValue\n",
    "stringToMathValue s\n",
    "    | s == \"\"                                  = Empty\n",
    "    | head s == '('                            = RawExpr s\n",
    "    | length s == 1 && head s `elem` operators = Operator $ head s\n",
    "    | otherwise                                = Value $ read s"
   ]
  },
  {
   "cell_type": "code",
   "execution_count": 230,
   "id": "5f8db31e",
   "metadata": {},
   "outputs": [
    {
     "data": {
      "text/plain": [
       "Value 12.0"
      ]
     },
     "metadata": {},
     "output_type": "display_data"
    },
    {
     "data": {
      "text/plain": [
       "RawExpr \"(12)\""
      ]
     },
     "metadata": {},
     "output_type": "display_data"
    },
    {
     "data": {
      "text/plain": [
       "Empty"
      ]
     },
     "metadata": {},
     "output_type": "display_data"
    },
    {
     "data": {
      "text/plain": [
       "Operator '+'"
      ]
     },
     "metadata": {},
     "output_type": "display_data"
    }
   ],
   "source": [
    "stringToMathValue \"12\"\n",
    "stringToMathValue \"(12)\"\n",
    "stringToMathValue \"\"\n",
    "stringToMathValue \"+\""
   ]
  },
  {
   "cell_type": "code",
   "execution_count": 231,
   "id": "76a581a8",
   "metadata": {},
   "outputs": [],
   "source": [
    "parseString :: String -> [MathValue]\n",
    "parseString s =\n",
    "    let (value_str,rest) = getNextMathValueString s 0\n",
    "    in let value = stringToMathValue value_str\n",
    "    in if null rest then [value] else value : parseString rest"
   ]
  },
  {
   "cell_type": "code",
   "execution_count": 232,
   "id": "368ee132",
   "metadata": {},
   "outputs": [
    {
     "data": {
      "text/plain": [
       "[Value 12.0,Operator '+',Value 4.0,Operator '*',RawExpr \"(0.1-(3/4)+4)\",Operator '/',Value 6.0]"
      ]
     },
     "metadata": {},
     "output_type": "display_data"
    }
   ],
   "source": [
    "parseString \"12+4*(0.1-(3/4)+4)/6\""
   ]
  },
  {
   "cell_type": "markdown",
   "id": "9fa66a40",
   "metadata": {},
   "source": [
    "## Evaluation"
   ]
  },
  {
   "cell_type": "code",
   "execution_count": 233,
   "id": "bcdb8ade",
   "metadata": {},
   "outputs": [],
   "source": [
    "evalOperator :: Char -> Float -> Float -> Float\n",
    "evalOperator op v1 v2 =\n",
    "    case op of\n",
    "        '+' -> v1 + v2\n",
    "        '-' -> v1 - v2\n",
    "        '*' -> v1 * v2\n",
    "        '/' -> v1 / v2\n",
    "        _   -> error (\"Unknown operator \" ++ [op])"
   ]
  },
  {
   "cell_type": "code",
   "execution_count": 234,
   "id": "b28d9283",
   "metadata": {},
   "outputs": [
    {
     "data": {
      "text/plain": [
       "3.0"
      ]
     },
     "metadata": {},
     "output_type": "display_data"
    },
    {
     "ename": "",
     "evalue": "",
     "output_type": "error",
     "traceback": [
      "Unknown operator &\nCallStack (from HasCallStack):\n  error, called at <interactive>:8:16 in interactive:Ghci6735"
     ]
    }
   ],
   "source": [
    "evalOperator '+' 1 2\n",
    "evalOperator '&' 1 2"
   ]
  },
  {
   "cell_type": "code",
   "execution_count": 235,
   "id": "4f5036c7",
   "metadata": {},
   "outputs": [],
   "source": [
    "evalMathValue :: MathValue -> Float\n",
    "evalMathValueList :: [MathValue] -> Float\n",
    "evalMathValueListSingleOperator :: Char -> [MathValue] -> [MathValue]\n",
    "\n",
    "evalMathValue Empty = error \"Cannot evaluate an empty expression\"\n",
    "evalMathValue (Value v) = v\n",
    "evalMathValue (RawExpr r) = evalMathValueList $ parseString $ tail $ init r -- remove the parentheses b4 parsing\n",
    "evalMathValue (Operator op) = error \"Cannot evaluate an operator\"\n",
    "\n",
    "evalMathValueListSingleOperator _ [] = error \"Cannot evaluate an empty expression list\"\n",
    "evalMathValueListSingleOperator _ [v] = [v]\n",
    "evalMathValueListSingleOperator _ [_, _] = error \"Cannot evaluate expression with two operands (must be odd)\"\n",
    "evalMathValueListSingleOperator op (a:(Operator other_op):b:rest) =\n",
    "    if op == other_op then\n",
    "        let value = evalOperator op (evalMathValue a) (evalMathValue b)\n",
    "        in evalMathValueListSingleOperator op (Value value:rest)\n",
    "    else\n",
    "        a : Operator other_op : evalMathValueListSingleOperator op (b : rest)\n",
    "\n",
    "evalMathValueList mvl = evalMathValue $ head $ foldl (flip evalMathValueListSingleOperator) mvl operators"
   ]
  },
  {
   "cell_type": "code",
   "execution_count": 236,
   "id": "51fc355b",
   "metadata": {},
   "outputs": [
    {
     "data": {
      "text/plain": [
       "12.5"
      ]
     },
     "metadata": {},
     "output_type": "display_data"
    },
    {
     "data": {
      "text/plain": [
       "12.5"
      ]
     },
     "metadata": {},
     "output_type": "display_data"
    }
   ],
   "source": [
    "evalMathValueList $ parseString \"(12+4*(3/4)/6)\"\n",
    "12+4*(3/4)/6"
   ]
  },
  {
   "cell_type": "markdown",
   "id": "4b9a1ad9",
   "metadata": {},
   "source": [
    "## Wrapping into a final function"
   ]
  },
  {
   "cell_type": "code",
   "execution_count": 239,
   "id": "15c02155",
   "metadata": {},
   "outputs": [],
   "source": [
    "calculate :: String -> Float\n",
    "calculate s = evalMathValueList . parseString $ removeWhiteSpaces s"
   ]
  },
  {
   "cell_type": "code",
   "execution_count": 240,
   "id": "50fa5448",
   "metadata": {},
   "outputs": [
    {
     "data": {
      "text/plain": [
       "60.0"
      ]
     },
     "metadata": {},
     "output_type": "display_data"
    },
    {
     "data": {
      "text/plain": [
       "60.0"
      ]
     },
     "metadata": {},
     "output_type": "display_data"
    }
   ],
   "source": [
    "calculate \"12 * 4 / (5 - 1) * 5\"\n",
    "12 * 4 / (5 - 1) * 5"
   ]
  },
  {
   "cell_type": "code",
   "execution_count": null,
   "id": "e61b9ae9",
   "metadata": {},
   "outputs": [],
   "source": []
  }
 ],
 "metadata": {
  "kernelspec": {
   "display_name": "Haskell",
   "language": "haskell",
   "name": "haskell"
  },
  "language_info": {
   "codemirror_mode": "ihaskell",
   "file_extension": ".hs",
   "mimetype": "text/x-haskell",
   "name": "haskell",
   "pygments_lexer": "Haskell",
   "version": "8.10.7"
  }
 },
 "nbformat": 4,
 "nbformat_minor": 5
}
