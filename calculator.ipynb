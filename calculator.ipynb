{
 "cells": [
  {
   "cell_type": "code",
   "execution_count": 1,
   "id": "38114808",
   "metadata": {},
   "outputs": [],
   "source": [
    " -- string to int: read\n",
    "data SingleValue =\n",
    "      Number Integer\n",
    "    | SubValues [Integer]\n",
    "\n",
    "removeSpaces :: String -> String\n",
    "removeSpaces = filter (/=' ')"
   ]
  },
  {
   "cell_type": "code",
   "execution_count": 2,
   "id": "3b583036",
   "metadata": {},
   "outputs": [
    {
     "data": {
      "text/plain": [
       "\"1 + 2\""
      ]
     },
     "metadata": {},
     "output_type": "display_data"
    },
    {
     "data": {
      "text/plain": [
       "\"1+2\""
      ]
     },
     "metadata": {},
     "output_type": "display_data"
    }
   ],
   "source": [
    "x = \"1 + 2\"\n",
    "x\n",
    "removeSpaces x"
   ]
  },
  {
   "cell_type": "code",
   "execution_count": 3,
   "id": "31b97e3f",
   "metadata": {},
   "outputs": [
    {
     "data": {
      "text/plain": [
       "False"
      ]
     },
     "metadata": {},
     "output_type": "display_data"
    },
    {
     "data": {
      "text/plain": [
       "False"
      ]
     },
     "metadata": {},
     "output_type": "display_data"
    },
    {
     "data": {
      "text/plain": [
       "True"
      ]
     },
     "metadata": {},
     "output_type": "display_data"
    }
   ],
   "source": [
    "delimiterFn :: Char -> Char -> Bool\n",
    "delimiterFn c1 c2\n",
    "    | (c1 `elem` alphabet) && (c2 `elem` alphabet) = False\n",
    "    | (c1 `elem` digits) && (c2 `elem` digits)     = False\n",
    "    | otherwise                                    = True\n",
    "    where alphabet = ['A'..'Z'] ++ ['a'..'z']\n",
    "          digits   = ['0'..'9']\n",
    "\n",
    "delimiterFn 'a' 'b'\n",
    "delimiterFn '1' '0'\n",
    "delimiterFn 'Q' '5'"
   ]
  },
  {
   "cell_type": "code",
   "execution_count": 4,
   "id": "3204095f",
   "metadata": {},
   "outputs": [
    {
     "data": {
      "text/plain": [
       "False"
      ]
     },
     "metadata": {},
     "output_type": "display_data"
    },
    {
     "data": {
      "text/plain": [
       "True"
      ]
     },
     "metadata": {},
     "output_type": "display_data"
    }
   ],
   "source": [
    "let operator_list = \"%*/-+\"\n",
    "isOperator :: String -> Bool\n",
    "isOperator [] = error \"Cannot tell if null string is an operator\"\n",
    "isOperator (x:[]) = x `elem` operator_list\n",
    "isOperator (x:y:_) = False\n",
    "\n",
    "isOperator \"12\"\n",
    "isOperator \"+\""
   ]
  },
  {
   "cell_type": "code",
   "execution_count": 5,
   "id": "fb3f6617",
   "metadata": {},
   "outputs": [
    {
     "data": {
      "text/plain": [
       "12.0"
      ]
     },
     "metadata": {},
     "output_type": "display_data"
    }
   ],
   "source": [
    "evalOperator :: Float -> String -> Float -> Float\n",
    "evalOperator x op y = case op of\n",
    "    \"+\" -> x + y\n",
    "    \"-\" -> x - y\n",
    "    \"*\" -> x * y\n",
    "    \"/\" -> x / y\n",
    "    _   -> error (\"Unknown operator\" ++ op)\n",
    "\n",
    "evalOperator 3 \"*\" 4"
   ]
  },
  {
   "cell_type": "code",
   "execution_count": 6,
   "id": "fd230508",
   "metadata": {},
   "outputs": [
    {
     "data": {
      "text/plain": [
       "[\"x\",\"123\",\"a\",\"32\"]"
      ]
     },
     "metadata": {},
     "output_type": "display_data"
    },
    {
     "data": {
      "text/plain": [
       "'3'"
      ]
     },
     "metadata": {},
     "output_type": "display_data"
    },
    {
     "data": {
      "text/plain": [
       "False"
      ]
     },
     "metadata": {},
     "output_type": "display_data"
    },
    {
     "data": {
      "text/plain": [
       "[\"a\",\"32\"]"
      ]
     },
     "metadata": {},
     "output_type": "display_data"
    },
    {
     "data": {
      "text/plain": [
       "\"x123\""
      ]
     },
     "metadata": {},
     "output_type": "display_data"
    },
    {
     "data": {
      "text/plain": [
       "[\"x123\",\"a\",\"32\"]"
      ]
     },
     "metadata": {},
     "output_type": "display_data"
    }
   ],
   "source": [
    "let acc = [\"123\", \"a\", \"32\"]\n",
    "['x'] : acc\n",
    "head (last acc)\n",
    "delimiterFn '1' (head (last acc))\n",
    "tail acc\n",
    "'x' : head acc\n",
    "('x' : head acc) : (tail acc)"
   ]
  },
  {
   "cell_type": "code",
   "execution_count": 7,
   "id": "183860bf",
   "metadata": {},
   "outputs": [
    {
     "data": {
      "text/plain": [
       "[\"123\",\"+\",\"45\"]"
      ]
     },
     "metadata": {},
     "output_type": "display_data"
    }
   ],
   "source": [
    "splitString :: String -> [String]\n",
    "splitString xs = tail (foldl (\\ acc x ->\n",
    "    if delimiterFn x (last (last acc)) then\n",
    "        acc ++ [[x]]\n",
    "    else\n",
    "        init acc ++ [last acc ++ [x]]\n",
    "    )\n",
    "    [\"+\"] xs)\n",
    "\n",
    "splitString \"123+45\""
   ]
  },
  {
   "cell_type": "code",
   "execution_count": 8,
   "id": "c212ff5f",
   "metadata": {},
   "outputs": [
    {
     "data": {
      "text/plain": [
       "2.7333333"
      ]
     },
     "metadata": {},
     "output_type": "display_data"
    }
   ],
   "source": [
    "evalStringList :: [String] -> Float\n",
    "evalStringList []      = error \"Operator/value missmatch in arithmetic expression\"\n",
    "evalStringList [x]     = read x\n",
    "evalStringList (a:b:t) = evalOperator (read a) b (evalStringList t)\n",
    "\n",
    "evalStringList [\"123\",\"/\",\"45\"]"
   ]
  },
  {
   "cell_type": "code",
   "execution_count": 9,
   "id": "1830aa42",
   "metadata": {},
   "outputs": [
    {
     "data": {
      "text/plain": [
       "[\"14.0\"]"
      ]
     },
     "metadata": {},
     "output_type": "display_data"
    },
    {
     "data": {
      "text/plain": [
       "[\"12\",\"+\",\"2\",\"*\",\"1.3\"]"
      ]
     },
     "metadata": {},
     "output_type": "display_data"
    }
   ],
   "source": [
    "evaluateSingleOperator :: Char -> [String] -> [String]\n",
    "-- [\"12\", \"*\", \"2\", \"-\", \"34\"]\n",
    "-- [\"24\", \"-\", \"34\"]\n",
    "\n",
    "evaluateSingleOperator _ [] = []\n",
    "evaluateSingleOperator _ [x] = [x]\n",
    "evaluateSingleOperator op (a:other_op:b:t)\n",
    "    | head other_op == op = let value = show (evalStringList [a,other_op,b]) in\n",
    "                            evaluateSingleOperator op (value:t)\n",
    "    | otherwise           = a : other_op : evaluateSingleOperator op (b:t)\n",
    "\n",
    "evaluateSingleOperator '+' [\"12\", \"+\", \"2\"]\n",
    "evaluateSingleOperator '-' [\"12\",\"+\",\"2\", \"*\", \"2.5\", \"-\", \"1.2\"]"
   ]
  },
  {
   "cell_type": "code",
   "execution_count": 10,
   "id": "9408cedf",
   "metadata": {},
   "outputs": [
    {
     "data": {
      "text/plain": [
       "[\"15.8\"]"
      ]
     },
     "metadata": {},
     "output_type": "display_data"
    }
   ],
   "source": [
    "evalAllOperators :: [String] -> [String]\n",
    "evalAllOperators ss = foldl (flip evaluateSingleOperator) ss operator_list\n",
    "\n",
    "evalAllOperators [\"12\",\"+\",\"2\", \"*\", \"2.5\", \"-\", \"1.2\"]"
   ]
  },
  {
   "cell_type": "code",
   "execution_count": 11,
   "id": "3cf27d67",
   "metadata": {},
   "outputs": [
    {
     "data": {
      "text/plain": [
       "-10.0"
      ]
     },
     "metadata": {},
     "output_type": "display_data"
    }
   ],
   "source": [
    "calculate :: String -> Float\n",
    "calculate s = read $ head ((evalAllOperators . splitString . removeSpaces) s)\n",
    "\n",
    "calculate \"12 * 2 - 34\""
   ]
  },
  {
   "cell_type": "code",
   "execution_count": 13,
   "id": "bd845404",
   "metadata": {},
   "outputs": [
    {
     "data": {
      "text/plain": [
       "3.4285715"
      ]
     },
     "metadata": {},
     "output_type": "display_data"
    },
    {
     "data": {
      "text/plain": [
       "3.4285714285714284"
      ]
     },
     "metadata": {},
     "output_type": "display_data"
    }
   ],
   "source": [
    "calculate \"12 * 2 / 7\"\n",
    "12 * 2 / 7"
   ]
  },
  {
   "cell_type": "code",
   "execution_count": null,
   "id": "4872599c",
   "metadata": {},
   "outputs": [],
   "source": []
  }
 ],
 "metadata": {
  "kernelspec": {
   "display_name": "Haskell",
   "language": "haskell",
   "name": "haskell"
  },
  "language_info": {
   "codemirror_mode": "ihaskell",
   "file_extension": ".hs",
   "mimetype": "text/x-haskell",
   "name": "haskell",
   "pygments_lexer": "Haskell",
   "version": "8.10.7"
  }
 },
 "nbformat": 4,
 "nbformat_minor": 5
}
